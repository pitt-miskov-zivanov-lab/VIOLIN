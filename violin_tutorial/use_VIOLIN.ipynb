{
 "cells": [
  {
   "cell_type": "code",
   "execution_count": 1,
   "metadata": {},
   "outputs": [],
   "source": [
    "model_file = 'test_input/ModelA.csv'\n",
    "reading_file = 'test_input/RA2_0_1_1_reading.xlsx'\n",
    "out_file = 'test'"
   ]
  },
  {
   "cell_type": "code",
   "execution_count": 2,
   "metadata": {},
   "outputs": [],
   "source": [
    "###Preamble###\n",
    "%load_ext autoreload\n",
    "%autoreload 2\n",
    "\n",
    "from VIOLIN.in_out import input_biorecipes,input_reading,output\n",
    "from VIOLIN.scoring import score_reading\n",
    "from VIOLIN.network import node_edge_list\n",
    "from VIOLIN.formatting import convert_reading\n",
    "from VIOLIN.visualize_violin import visualize\n"
   ]
  },
  {
   "cell_type": "code",
   "execution_count": 3,
   "metadata": {},
   "outputs": [],
   "source": [
    "###Parameters###\n",
    " \n",
    "#Scoring values defined\n",
    "kind_dict = {\"strong corroboration\" : 2, \n",
    "                \"weak corroboration1\" : 1,\n",
    "                \"weak corroboration2\" : 1,\n",
    "                \"weak corroboration3\" : 1,\n",
    "                \"hanging extension\" : 40, \n",
    "                \"full extension\" : 40, \n",
    "                \"internal extension\" : 40, \n",
    "                \"specification\" : 30, \n",
    "                \"dir contradiction\" : 10,\n",
    "                \"sign contradiction\" : 10,\n",
    "                \"att contradiction\" : 10,\n",
    "                \"flagged1\" : 20,\n",
    "                \"flagged2\" : 20,\n",
    "                \"flagged3\" : 20}\n",
    "match_dict = {\"source present\" : 1, \n",
    "                \"target present\" : 100, \n",
    "                \"both present\" : 10, \n",
    "                \"neither present\" : 0.1}\n",
    "#These column names are the attributes used to determine \n",
    "#duplicate interactions in evidence_score()\n",
    "evidence_score_cols = ['Element Name','Element Type','Element ID','Location',\n",
    "                       'Location ID','Cell Line','Cell Type','Organism',\n",
    "                       'Positive Reg Name','Positive Reg Type','Positive Reg ID',\n",
    "                       'Positive Reg Location','Positive Reg Location ID',\n",
    "                       'Negative Reg Name','Negative Reg Type','Negative Reg ID',\n",
    "                       'Negative Reg Location','Negative Reg Location ID','Connection Type']\n",
    "#Attributes Compared\n",
    "attributes = ['Location ID']   \n",
    " "
   ]
  },
  {
   "cell_type": "code",
   "execution_count": 4,
   "metadata": {},
   "outputs": [
    {
     "name": "stderr",
     "output_type": "stream",
     "text": [
      "/Users/casey/opt/anaconda3/lib/python3.8/site-packages/dyse-0.1-py3.8.egg/VIOLIN/formatting.py:80: FutureWarning: The default value of regex will change from True to False in a future version.\n",
      "  model_df[sign+' Regulators'] = model_df[sign+' Regulators'].str.replace(char1, \",\")\n",
      "/Users/casey/opt/anaconda3/lib/python3.8/site-packages/dyse-0.1-py3.8.egg/VIOLIN/formatting.py:82: FutureWarning: The default value of regex will change from True to False in a future version.\n",
      "  model_df[sign+' Regulators'] = model_df[sign+' Regulators'].str.replace(char2, \"\")\n",
      "/Users/casey/opt/anaconda3/lib/python3.8/site-packages/dyse-0.1-py3.8.egg/VIOLIN/formatting.py:82: FutureWarning: The default value of regex will change from True to False in a future version. In addition, single character regular expressions will*not* be treated as literal strings when regex=True.\n",
      "  model_df[sign+' Regulators'] = model_df[sign+' Regulators'].str.replace(char2, \"\")\n",
      "/Users/casey/opt/anaconda3/lib/python3.8/site-packages/dyse-0.1-py3.8.egg/VIOLIN/network.py:39: FutureWarning: The default value of regex will change from True to False in a future version. In addition, single character regular expressions will*not* be treated as literal strings when regex=True.\n",
      "  graph['Positive Regulators'] = graph['Positive Regulators'].str.replace('[','').str.replace(']','').str.replace('\\'','')\n",
      "/Users/casey/opt/anaconda3/lib/python3.8/site-packages/dyse-0.1-py3.8.egg/VIOLIN/network.py:40: FutureWarning: The default value of regex will change from True to False in a future version. In addition, single character regular expressions will*not* be treated as literal strings when regex=True.\n",
      "  graph['Negative Regulators'] = graph['Negative Regulators'].str.replace('[','').str.replace(']','').str.replace('\\'','')\n"
     ]
    }
   ],
   "source": [
    "###_File input and formatting_###\n",
    "###This assumes the input files match the default input REACH and BioRECIPES formats###\n",
    "\n",
    "model_df = input_biorecipes(model_file)\n",
    "\n",
    "reading_df, reading_cols = input_reading(reading_file, evidence_score_cols, atts = attributes)\n",
    "\n",
    "graph = node_edge_list(model_df)"
   ]
  },
  {
   "cell_type": "code",
   "execution_count": 5,
   "metadata": {},
   "outputs": [],
   "source": [
    "###_Scoring_###\n",
    "\n",
    "scored = score_reading(reading_df,model_df,graph,reading_cols,kind_values = kind_dict,match_values = match_dict,attributes = attributes)"
   ]
  },
  {
   "cell_type": "code",
   "execution_count": 6,
   "metadata": {},
   "outputs": [],
   "source": [
    "###_Output_###\n",
    "\n",
    "output(scored,out_file,kind_values=kind_dict)"
   ]
  },
  {
   "cell_type": "code",
   "execution_count": 7,
   "metadata": {},
   "outputs": [],
   "source": [
    "###_Visualization_###\n",
    "visualize(match_dict, kind_dict, out_file+'_TotalOutput.csv', filter_opt='100%')"
   ]
  },
  {
   "cell_type": "code",
   "execution_count": null,
   "metadata": {},
   "outputs": [],
   "source": []
  }
 ],
 "metadata": {
  "kernelspec": {
   "display_name": "Python 3",
   "language": "python",
   "name": "python3"
  },
  "language_info": {
   "codemirror_mode": {
    "name": "ipython",
    "version": 3
   },
   "file_extension": ".py",
   "mimetype": "text/x-python",
   "name": "python",
   "nbconvert_exporter": "python",
   "pygments_lexer": "ipython3",
   "version": "3.8.8"
  }
 },
 "nbformat": 4,
 "nbformat_minor": 4
}
