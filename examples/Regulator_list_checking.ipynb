{
 "cells": [
  {
   "cell_type": "code",
   "execution_count": null,
   "id": "initial_id",
   "metadata": {
    "collapsed": true
   },
   "source": [
    "import pandas as pd\n",
    "import re\n",
    "import os\n",
    "import sys \n",
    "import glob\n",
    "import warnings\n",
    "import time\n",
    "warnings.filterwarnings('ignore')\n",
    "sys.path.insert(0, os.path.abspath(os.path.join(os.getcwd(), os.pardir, 'src/violin/')))\n",
    "%load_ext autoreload\n",
    "%autoreload 2"
   ],
   "outputs": []
  },
  {
   "metadata": {},
   "cell_type": "markdown",
   "source": [
    "### NOTES:\n",
    "##### This script is to make sure the regulator list in model file correct. This notebook can standardize simulation model "
   ],
   "id": "60c70c768432e276"
  },
  {
   "metadata": {},
   "cell_type": "code",
   "execution_count": null,
   "source": [
    "type_dict = {'proteinfamily': 'pf',\n",
    "             'proteincomplex': 'pf',\n",
    "             'protein': 'pn',\n",
    "             'chemical': 'che',\n",
    "             'chemicalfamily': 'cf',\n",
    "             'gene': 'gene',\n",
    "             'rna': 'rna',\n",
    "             'mutation': 'mut',\n",
    "             'biologicalprocess': 'bp'}\n",
    "vocab_df = pd.read_excel('input/models/vocab.xlsx', index_col=None)\n",
    "vocab_df['Full Name'] = vocab_df['Full Name'].str.strip().str.lower()"
   ],
   "id": "5afe88060277910d",
   "outputs": []
  },
  {
   "metadata": {},
   "cell_type": "code",
   "execution_count": null,
   "source": [
    "from formatting import get_element\n",
    "\n",
    "df = pd.read_excel('input/models/ModelA_biorecipe.xlsx')\n",
    "df = df.astype(str)\n",
    "model_index = df.index\n",
    "for row in range(len(df)):\n",
    "    index = model_index[row]\n",
    "    for sign in ['Positive', 'Negative']:\n",
    "        if df.loc[index, f'{sign} Regulation Rule'] == '':\n",
    "            df.loc[index, f'{sign} Regulator List'] = ''\n",
    "        else:\n",
    "            df.loc[index, f'{sign} Regulator List'] = ','.join(\n",
    "                list(get_element(df.loc[index, f'{sign} Regulation Rule'], 0)))"
   ],
   "id": "c760c9695ed12da4",
   "outputs": []
  },
  {
   "metadata": {},
   "cell_type": "code",
   "execution_count": null,
   "source": [
    "for row in range(len(df)):\n",
    "    df.loc[row, 'Element Name'] = re.match(r'[A-Z0-9\\_]+', df.loc[row, 'Element Name']).group(0)\n",
    "df = df.fillna('nan').astype(str)\n"
   ],
   "id": "a0f16889206bf6b4",
   "outputs": []
  },
  {
   "metadata": {},
   "cell_type": "code",
   "execution_count": null,
   "source": [
    "abb_subtype_list = []\n",
    "for row in range(len(df)):\n",
    "    #abb_type = type_dict[df.loc[row, 'Element Type'].lower().replace(' ', '')] \n",
    "    subtype_string = df.loc[row, 'Element Subtype'].split(',')[0]\n",
    "    list_ = []\n",
    "    if subtype_string not in ['', 'nan']:\n",
    "        for x in [subname for subname in subtype_string.replace('(', ' ').replace(')', ' ').split(' ') if subname not in ['', ' ']]:\n",
    "            if x.lower() not in list(vocab_df['Full Name']):\n",
    "                list_.append(x.strip())\n",
    "            else:\n",
    "                list_.append(vocab_df.loc[list(vocab_df['Full Name']).index(x.lower().strip()), 'Abbreivation'])\n",
    "        abb_subtype = ''.join(list_)\n",
    "    else:\n",
    "        abb_subtype = 'nan'\n",
    "    abb_subtype_list.append(abb_subtype)\n",
    "\n",
    "\n",
    "for row in range(len(df)):\n",
    "    pos_list = []\n",
    "    if df.loc[row, 'Positive Regulator List'] != 'nan':\n",
    "        # Format white space, separate it to list\n",
    "        pos_reg_list = df.loc[row, 'Positive Regulator List'].replace(' ', '').split(',')\n",
    "\n",
    "        for pos_reg in pos_reg_list:\n",
    "            \n",
    "            pos_idx = list(df['Variable']).index(pos_reg)\n",
    "            if df.loc[pos_idx, 'Element Type'] not in type_dict:\n",
    "                type_ = ''.join(re.findall(r'[a-z]+', df.loc[pos_idx, 'Element Type'].lower().replace(' ', '')))\n",
    "            else:\n",
    "                type_ = type_dict[df.loc[pos_idx, 'Element Type'].lower().replace(' ', '')]\n",
    "            pos_list.append('{}_{}_{}_{}'.format(\n",
    "                df.loc[pos_idx, 'Element Name'],\n",
    "                type_,\n",
    "                abb_subtype_list[pos_idx],\n",
    "                df.loc[pos_idx, 'Compartment ID'].replace(':', '')\n",
    "            ))\n",
    "    df.loc[row, 'Positive Regulator List'] = ','.join(pos_list)\n",
    "            \n",
    "    neg_list = []\n",
    "    if df.loc[row, 'Negative Regulator List'] != 'nan':\n",
    "        # Format white space, separate it to list\n",
    "        neg_reg_list = df.loc[row, 'Negative Regulator List'].replace(' ', '').split(',')\n",
    "\n",
    "        for neg_reg in neg_reg_list:\n",
    "            neg_idx = list(df['Variable']).index(neg_reg)\n",
    "            if df.loc[neg_idx, 'Element Type'] not in type_dict:\n",
    "                type_ = ''.join(re.findall(r'[a-z]+', df.loc[neg_idx, 'Element Type'].lower().replace(' ', '')))\n",
    "            else:\n",
    "                type_ = type_dict[df.loc[neg_idx, 'Element Type'].lower().replace(' ', '')]\n",
    "            neg_list.append('{}_{}_{}_{}'.format(\n",
    "                df.loc[neg_idx, 'Element Name'],\n",
    "                type_,\n",
    "                abb_subtype_list[neg_idx],\n",
    "                df.loc[neg_idx, 'Compartment ID'].replace(':', '')\n",
    "            ))\n",
    "    df.loc[row, 'Negative Regulator List'] = ','.join(neg_list)"
   ],
   "id": "4647a33e76321b85",
   "outputs": []
  },
  {
   "metadata": {},
   "cell_type": "code",
   "execution_count": null,
   "source": [
    "# proofreading\n",
    "for row in range(len(df)):\n",
    "    df.loc[row, 'Positive Mechanism List'] = df.loc[row, 'Positive Mechanism List'].replace('?', 'nan').replace(' ', '')\n",
    "    df.loc[row, 'Negative Mechanism List'] = df.loc[row, 'Negative Mechanism List'].replace('?', 'nan').replace(' ', '')\n",
    "    df.loc[row, 'Positive Mechanism List'] = df.loc[row, 'Positive Mechanism List'].replace(' ', '')\n",
    "    df.loc[row, 'Negative Mechanism List'] = df.loc[row, 'Negative Mechanism List'].replace(' ', '')\n",
    "    df.loc[row, 'Positive Connection Type List'] = df.loc[row, 'Positive Connection Type List'].replace(' ', '')\n",
    "    df.loc[row, 'Negative Connection Type List'] = df.loc[row, 'Negative Connection Type List'].replace(' ', '')\n",
    "    df.loc[row, 'Element HGNC Symbol'] = df.loc[row, 'Element HGNC Symbol'].replace(' ', '')\n",
    "    df.loc[row, 'Element IDs'] = df.loc[row, 'Element IDs'].replace(' ', '')\n",
    "    \n",
    "\n",
    "for row in range(len(df)):\n",
    "    pos_reg_list = df.loc[row, 'Positive Regulator List'].split(',')\n",
    "    pos_cnx_list = df.loc[row, 'Positive Connection Type List'].split(',')\n",
    "    if len(pos_reg_list) != len(pos_cnx_list):\n",
    "        print(f'row: {row} positive not right')\n",
    "    neg_reg_list = df.loc[row, 'Negative Regulator List'].split(',')\n",
    "    neg_cnx_list = df.loc[row, 'Negative Connection Type List'].split(',')\n",
    "    if len(neg_reg_list) != len(neg_cnx_list):\n",
    "        print(f'row: {row} negative not right')"
   ],
   "id": "d80cf1724dc45090",
   "outputs": []
  },
  {
   "metadata": {},
   "cell_type": "code",
   "execution_count": null,
   "source": [
    "# Save your model\n",
    "df.replace('nan', '').to_excel('input/models/ModelA_biorecipe.xlsx')"
   ],
   "id": "bb41a2cb878f39bf",
   "outputs": []
  }
 ],
 "metadata": {
  "kernelspec": {
   "display_name": "Python 3",
   "language": "python",
   "name": "python3"
  },
  "language_info": {
   "codemirror_mode": {
    "name": "ipython",
    "version": 2
   },
   "file_extension": ".py",
   "mimetype": "text/x-python",
   "name": "python",
   "nbconvert_exporter": "python",
   "pygments_lexer": "ipython2",
   "version": "2.7.6"
  }
 },
 "nbformat": 4,
 "nbformat_minor": 5
}
