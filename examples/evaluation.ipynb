{
 "cells": [
  {
   "cell_type": "code",
   "id": "initial_id",
   "metadata": {
    "collapsed": true,
    "ExecuteTime": {
     "end_time": "2024-06-15T15:59:34.833072Z",
     "start_time": "2024-06-15T15:59:33.079365Z"
    }
   },
   "source": [
    "import pandas as pd\n",
    "import re\n",
    "import os\n",
    "import sys \n",
    "import glob\n",
    "import warnings\n",
    "import time\n",
    "warnings.filterwarnings('ignore')\n",
    "sys.path.insert(0, os.path.abspath(os.path.join(os.getcwd(), os.pardir, 'src/violin/')))\n",
    "%load_ext autoreload\n",
    "%autoreload 2\n",
    "from in_out import preprocessing_model, preprocessing_reading, output\n",
    "from scoring import score_reading\n",
    "from network import node_edge_list\n",
    "from visualize_violin import visualize \n"
   ],
   "outputs": [],
   "execution_count": 1
  },
  {
   "metadata": {
    "ExecuteTime": {
     "end_time": "2024-06-15T15:59:34.861548Z",
     "start_time": "2024-06-15T15:59:34.835827Z"
    }
   },
   "cell_type": "code",
   "source": [
    "## Parameters ## \n",
    "approach = '1'\n",
    "kind_dict = {\"strong corroboration\" : 2, \n",
    "                \"empty attribute\" : 1,\n",
    "                \"indirect interaction\" : 3,\n",
    "                \"path corroboration\" : 5,\n",
    "                \"specification\" : 7,\n",
    "                \"hanging extension\" : 40, \n",
    "                \"full extension\" : 39, \n",
    "                \"internal extension\" : 38,  \n",
    "                \"dir contradiction\" : 11,\n",
    "                \"sign contradiction\" : 10, \n",
    "                \"att contradiction\" : 9,\n",
    "                \"dir mismatch\" : 20,\n",
    "                \"path mismatch\" : 19,\n",
    "                \"self-regulation\" : 18}\n",
    "match_dict = {\"source present\" : 1, \n",
    "                \"target present\" : 100, \n",
    "                \"both present\" : 10, \n",
    "                \"neither present\" : 0.1}\n",
    "evidence_scoring_cols = [\"Regulator Name\", \"Regulator Type\", \"Regulator Subtype\", \"Regulator HGNC Symbol\", \"Regulator Database\", \"Regulator ID\", \"Regulator Compartment\", \"Regulator Compartment ID\",\n",
    "                        \"Regulated Name\", \"Regulated Type\", \"Regulated Subtype\", \"Regulated HGNC Symbol\", \"Regulated Database\", \"Regulated ID\", \"Regulated Compartment\", \"Regulated Compartment ID\",\n",
    "                        \"Sign\", \"Connection Type\", \"Mechanism\", \"Site\",\n",
    "                        \"Cell Line\", \"Cell Type\", \"Tissue Type\", \"Organism\"]\n",
    "attributes = ['Regulated Compartment ID', 'Regulator Compartment ID']"
   ],
   "id": "ed008fb808259739",
   "outputs": [],
   "execution_count": 2
  },
  {
   "metadata": {
    "ExecuteTime": {
     "end_time": "2024-06-15T15:59:36.012163Z",
     "start_time": "2024-06-15T15:59:34.863658Z"
    }
   },
   "cell_type": "code",
   "source": [
    "reader = 'GPT'\n",
    "model_files = ['input/models/SkMel133_biorecipe.xlsx', 'input/models/ModelB_discrete_biorecipe.xlsx']\n",
    "reading_A_files = glob.glob(f'input/interactions/{reader}/RA*.xlsx')\n",
    "reading_B_files = glob.glob(f'input/interactions/{reader}/RB*.xlsx')\n",
    "\n",
    "model_A_df = preprocessing_model(model_files[0])\n",
    "model_B_df = preprocessing_model(model_files[1])\n",
    "\n",
    "graph_A = node_edge_list(model_A_df)\n",
    "graph_B = node_edge_list(model_B_df)"
   ],
   "id": "49cce84d0668c72b",
   "outputs": [],
   "execution_count": 3
  },
  {
   "metadata": {
    "ExecuteTime": {
     "end_time": "2024-06-15T16:00:05.309014Z",
     "start_time": "2024-06-15T15:59:36.015332Z"
    }
   },
   "cell_type": "code",
   "source": [
    "for reading_file in reading_A_files:\n",
    "    output_file = f'output/{reader}' + '/' + reading_file.split('/')[-1].split('_reading_BioRECIPE')[0]\n",
    "    print(output_file)\n",
    "    time1 = time.time()\n",
    "    reading_df = preprocessing_reading(reading=reading_file, \n",
    "                                       evidence_score_cols=evidence_scoring_cols, \n",
    "                                       atts=attributes)\n",
    "    counter_A = {'corroboration': [], 'contradiction': []}\n",
    "    scored = score_reading(reading_df, \n",
    "                       model_A_df, \n",
    "                       graph_A, \n",
    "                       counter=counter_A,\n",
    "                       kind_values=kind_dict, \n",
    "                       match_values=match_dict, \n",
    "                       attributes=attributes, \n",
    "                       classify_scheme=approach,\n",
    "                       )\n",
    "    output(scored, output_file, kind_values=kind_dict)\n",
    "    print(time.time() - time1)\n",
    "    print('corroboration in model: {}'.format(len(set(counter_A['corroboration']))))\n",
    "    print('contradiction in model: {}'.format(len(set(counter_A['contradiction']))))\n",
    "\n",
    "for reading_file in reading_B_files:\n",
    "    output_file = f'output/{reader}' + '/' + reading_file.split('/')[-1].split('_reading_BioRECIPE')[0]\n",
    "    print(output_file)\n",
    "    time1 = time.time()\n",
    "    reading_df = preprocessing_reading(reading=reading_file, \n",
    "                                       evidence_score_cols=evidence_scoring_cols, \n",
    "                                       atts=attributes)\n",
    "    counter_B = {'corroboration': [], 'contradiction': []}\n",
    "    scored = score_reading(reading_df, \n",
    "                       model_B_df, \n",
    "                       graph_B, \n",
    "                       counter=counter_B,\n",
    "                       kind_values=kind_dict, \n",
    "                       match_values=match_dict, \n",
    "                       attributes=attributes, \n",
    "                       classify_scheme=approach)\n",
    "    output(scored, output_file, kind_values=kind_dict)\n",
    "    print(time.time() - time1)\n",
    "    print('corroboration in model: {}'.format(len(set(counter_B['corroboration']))))\n",
    "    print('contradiction in model: {}'.format(len(set(counter_B['contradiction']))))\n"
   ],
   "id": "a9a15d68aa6caf69",
   "outputs": [
    {
     "name": "stdout",
     "output_type": "stream",
     "text": [
      "output/GPT/RA4\n",
      "58\n",
      "0.2749059200286865\n",
      "corroboration in model: 1\n",
      "contradiction in model: 0\n",
      "output/GPT/RA3\n",
      "1364\n",
      "4.277546167373657\n",
      "corroboration in model: 5\n",
      "contradiction in model: 11\n",
      "output/GPT/RA2\n",
      "3604\n",
      "13.514410018920898\n",
      "corroboration in model: 28\n",
      "contradiction in model: 40\n",
      "output/GPT/RB_star_1\n",
      "964\n",
      "3.34342098236084\n",
      "corroboration in model: 0\n",
      "contradiction in model: 0\n",
      "output/GPT/RB_star_2\n",
      "437\n",
      "1.4069311618804932\n",
      "corroboration in model: 0\n",
      "contradiction in model: 0\n",
      "output/GPT/RB1\n",
      "858\n",
      "3.7983109951019287\n",
      "corroboration in model: 2\n",
      "contradiction in model: 2\n",
      "output/GPT/RB2\n",
      "385\n",
      "1.3834002017974854\n",
      "corroboration in model: 2\n",
      "contradiction in model: 2\n",
      "output/GPT/RB3\n",
      "317\n",
      "1.255737066268921\n",
      "corroboration in model: 1\n",
      "contradiction in model: 2\n"
     ]
    }
   ],
   "execution_count": 4
  }
 ],
 "metadata": {
  "kernelspec": {
   "display_name": "Python 3",
   "language": "python",
   "name": "python3"
  },
  "language_info": {
   "codemirror_mode": {
    "name": "ipython",
    "version": 2
   },
   "file_extension": ".py",
   "mimetype": "text/x-python",
   "name": "python",
   "nbconvert_exporter": "python",
   "pygments_lexer": "ipython2",
   "version": "2.7.6"
  }
 },
 "nbformat": 4,
 "nbformat_minor": 5
}
