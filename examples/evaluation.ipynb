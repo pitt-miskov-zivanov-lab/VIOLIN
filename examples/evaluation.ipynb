{
 "cells": [
  {
   "cell_type": "code",
   "id": "initial_id",
   "metadata": {
    "collapsed": true,
    "ExecuteTime": {
     "end_time": "2024-06-20T21:40:48.673244Z",
     "start_time": "2024-06-20T21:40:48.472392Z"
    }
   },
   "source": [
    "import pandas as pd\n",
    "import re\n",
    "import os\n",
    "import sys \n",
    "import glob\n",
    "import warnings\n",
    "import time\n",
    "warnings.filterwarnings('ignore')\n",
    "sys.path.insert(0, os.path.abspath(os.path.join(os.getcwd(), os.pardir, 'src/violin/')))\n",
    "%load_ext autoreload\n",
    "%autoreload 2\n",
    "from in_out import preprocessing_model, preprocessing_reading, output\n",
    "from scoring import score_reading\n",
    "from network import node_edge_list\n",
    "from visualize_violin import visualize \n"
   ],
   "outputs": [
    {
     "name": "stdout",
     "output_type": "stream",
     "text": [
      "The autoreload extension is already loaded. To reload it, use:\n",
      "  %reload_ext autoreload\n"
     ]
    }
   ],
   "execution_count": 11
  },
  {
   "metadata": {
    "ExecuteTime": {
     "end_time": "2024-06-20T21:54:02.519038Z",
     "start_time": "2024-06-20T21:54:02.470051Z"
    }
   },
   "cell_type": "code",
   "source": [
    "## Parameters ## \n",
    "approach = '1'\n",
    "kind_dict = {\"strong corroboration\" : 2, \n",
    "                \"empty attribute\" : 1,\n",
    "                \"indirect interaction\" : 3,\n",
    "                \"path corroboration\" : 5,\n",
    "                \"specification\" : 7,\n",
    "                \"hanging extension\" : 40, \n",
    "                \"full extension\" : 39, \n",
    "                \"internal extension\" : 38,  \n",
    "                \"dir contradiction\" : 11,\n",
    "                \"sign contradiction\" : 10, \n",
    "                \"att contradiction\" : 9,\n",
    "                \"dir mismatch\" : 20,\n",
    "                \"path mismatch\" : 19,\n",
    "                \"self-regulation\" : 18}\n",
    "match_dict = {\"source present\" : 1, \n",
    "                \"target present\" : 100, \n",
    "                \"both present\" : 10, \n",
    "                \"neither present\" : 0.1}\n",
    "evidence_scoring_cols = [\"Regulator Name\", \"Regulator Type\", \"Regulator Subtype\", \"Regulator HGNC Symbol\", \"Regulator Database\", \"Regulator ID\", \"Regulator Compartment\", \"Regulator Compartment ID\",\n",
    "                        \"Regulated Name\", \"Regulated Type\", \"Regulated Subtype\", \"Regulated HGNC Symbol\", \"Regulated Database\", \"Regulated ID\", \"Regulated Compartment\", \"Regulated Compartment ID\",\n",
    "                        \"Sign\", \"Connection Type\", \"Mechanism\", \"Site\",\n",
    "                        \"Cell Line\", \"Cell Type\", \"Tissue Type\", \"Organism\"]\n",
    "attributes = ['Regulated Compartment ID', 'Regulator Compartment ID', 'Mechanism' , 'Cell Line', 'Cell Type', 'Tissue Type', 'Organism']"
   ],
   "id": "ed008fb808259739",
   "outputs": [],
   "execution_count": 17
  },
  {
   "metadata": {
    "ExecuteTime": {
     "end_time": "2024-06-20T22:00:38.194129Z",
     "start_time": "2024-06-20T22:00:36.557593Z"
    }
   },
   "cell_type": "code",
   "source": [
    "reader = 'INDRA'\n",
    "model_files = ['input/models/SkMel133_biorecipe.xlsx', 'input/models/ModelB_discrete_biorecipe.xlsx']\n",
    "reading_A_files = glob.glob(f'input/interactions/{reader}/RA*.xlsx')\n",
    "reading_B_files = glob.glob(f'input/interactions/{reader}/RB*.xlsx')\n",
    "\n",
    "model_A_df = preprocessing_model(model_files[0])\n",
    "model_B_df = preprocessing_model(model_files[1])\n",
    "\n",
    "graph_A = node_edge_list(model_A_df)\n",
    "graph_B = node_edge_list(model_B_df)"
   ],
   "id": "49cce84d0668c72b",
   "outputs": [],
   "execution_count": 20
  },
  {
   "metadata": {
    "ExecuteTime": {
     "end_time": "2024-06-20T22:03:41.962337Z",
     "start_time": "2024-06-20T22:00:38.206980Z"
    }
   },
   "cell_type": "code",
   "source": [
    "for reading_file in reading_A_files:\n",
    "    output_file = f'output/{reader}' + '/' + reading_file.split('/')[-1].split('_reading_BioRECIPE')[0]\n",
    "    print(output_file)\n",
    "    time1 = time.time()\n",
    "    reading_df = preprocessing_reading(reading=reading_file, \n",
    "                                       evidence_score_cols=evidence_scoring_cols, \n",
    "                                       atts=attributes)\n",
    "    counter_A = {'corroboration': [], 'contradiction': []}\n",
    "    scored = score_reading(reading_df, \n",
    "                       model_A_df, \n",
    "                       graph_A, \n",
    "                       counter=counter_A,\n",
    "                       kind_values=kind_dict, \n",
    "                       match_values=match_dict, \n",
    "                       attributes=attributes, \n",
    "                       classify_scheme=approach,\n",
    "                       )\n",
    "    output(scored, output_file, kind_values=kind_dict)\n",
    "    print(time.time() - time1)\n",
    "    print('corroboration in model: {}'.format(len(set(counter_A['corroboration']))))\n",
    "    print('contradiction in model: {}'.format(len(set(counter_A['contradiction']))))\n",
    "\n",
    "for reading_file in reading_B_files:\n",
    "    output_file = f'output/{reader}' + '/' + reading_file.split('/')[-1].split('_reading_BioRECIPE')[0]\n",
    "    print(output_file)\n",
    "    time1 = time.time()\n",
    "    reading_df = preprocessing_reading(reading=reading_file, \n",
    "                                       evidence_score_cols=evidence_scoring_cols, \n",
    "                                       atts=attributes)\n",
    "    counter_B = {'corroboration': [], 'contradiction': []}\n",
    "    scored = score_reading(reading_df, \n",
    "                       model_B_df, \n",
    "                       graph_B, \n",
    "                       counter=counter_B,\n",
    "                       kind_values=kind_dict, \n",
    "                       match_values=match_dict, \n",
    "                       attributes=attributes, \n",
    "                       classify_scheme=approach)\n",
    "    output(scored, output_file, kind_values=kind_dict)\n",
    "    print(time.time() - time1)\n",
    "    print('corroboration in model: {}'.format(len(set(counter_B['corroboration']))))\n",
    "    print('contradiction in model: {}'.format(len(set(counter_B['contradiction']))))\n"
   ],
   "id": "a9a15d68aa6caf69",
   "outputs": [
    {
     "name": "stdout",
     "output_type": "stream",
     "text": [
      "output/INDRA/RA4\n",
      "30\n",
      "0.1679670810699463\n",
      "corroboration in model: 0\n",
      "contradiction in model: 0\n",
      "output/INDRA/RA3\n",
      "559\n",
      "2.7341859340667725\n",
      "corroboration in model: 0\n",
      "contradiction in model: 0\n",
      "output/INDRA/RA2\n",
      "1524\n",
      "8.907699823379517\n",
      "corroboration in model: 5\n",
      "contradiction in model: 3\n",
      "output/INDRA/RA1\n",
      "51628\n",
      "165.43350100517273\n",
      "corroboration in model: 21\n",
      "contradiction in model: 24\n",
      "output/INDRA/RB_star_1\n",
      "787\n",
      "2.1502530574798584\n",
      "corroboration in model: 0\n",
      "contradiction in model: 0\n",
      "output/INDRA/RB_star_2\n",
      "608\n",
      "1.5508217811584473\n",
      "corroboration in model: 0\n",
      "contradiction in model: 0\n",
      "output/INDRA/RB1\n",
      "648\n",
      "1.6062729358673096\n",
      "corroboration in model: 0\n",
      "contradiction in model: 0\n",
      "output/INDRA/RB2\n",
      "389\n",
      "0.9906690120697021\n",
      "corroboration in model: 0\n",
      "contradiction in model: 0\n",
      "output/INDRA/RB3\n",
      "26\n",
      "0.15742111206054688\n",
      "corroboration in model: 0\n",
      "contradiction in model: 0\n"
     ]
    }
   ],
   "execution_count": 21
  },
  {
   "metadata": {},
   "cell_type": "markdown",
   "source": "### TESTING task 1 & 2",
   "id": "a59405e7ba5be9c3"
  },
  {
   "metadata": {
    "ExecuteTime": {
     "end_time": "2024-06-20T14:30:20.483598Z",
     "start_time": "2024-06-20T14:30:20.429243Z"
    }
   },
   "cell_type": "code",
   "source": "from translators.within_biorecipe.md_and_int import get_interactions_from_model",
   "id": "68feeb65dc742401",
   "outputs": [],
   "execution_count": 11
  },
  {
   "metadata": {
    "ExecuteTime": {
     "end_time": "2024-06-20T16:45:53.711678Z",
     "start_time": "2024-06-20T16:45:50.385117Z"
    }
   },
   "cell_type": "code",
   "source": [
    "# Switch format\n",
    "interactions_A = os.getcwd() + '/input/interactions/translated_SkeMel133_biorecipe.xlsx'\n",
    "interactions_B = os.getcwd() + '/input/interactions/translated_ModelB_discrete_biorecipe.xlsx'\n",
    "\n",
    "get_interactions_from_model(os.getcwd() + '/' + model_files[0], interactions_A)\n",
    "get_interactions_from_model(os.getcwd() + '/' + model_files[1], interactions_B)\n",
    "\n",
    "interactions_A_df = pd.read_excel(interactions_A, index_col=None)\n",
    "interactions_B_df = pd.read_excel(interactions_B, index_col=None)"
   ],
   "id": "57353d146a9e7f08",
   "outputs": [],
   "execution_count": 28
  },
  {
   "metadata": {
    "ExecuteTime": {
     "end_time": "2024-06-20T16:45:55.302157Z",
     "start_time": "2024-06-20T16:45:53.714332Z"
    }
   },
   "cell_type": "code",
   "source": [
    "# Test in VIOLIN\n",
    "reading_A_df = preprocessing_reading(reading=interactions_A, \n",
    "                                     evidence_score_cols=evidence_scoring_cols, \n",
    "                                     atts=attributes)\n",
    "counter_A = {'corroboration': [], 'contradiction': []}\n",
    "scored = score_reading(reading_A_df, \n",
    "                       model_A_df, \n",
    "                       graph_A, \n",
    "                       counter=counter_A,\n",
    "                       kind_values=kind_dict, \n",
    "                       match_values=match_dict, \n",
    "                       attributes=attributes, \n",
    "                       classify_scheme=approach,\n",
    "                       )\n",
    "output_file = f'test/test_result' + '/' + interactions_A.split('/')[-1].split('_biorecipe')[0]\n",
    "output(scored, output_file, kind_values=kind_dict)\n",
    "print('corroboration in model: {}'.format(len(set(counter_A['corroboration']))))\n",
    "print('contradiction in model: {}'.format(len(set(counter_A['contradiction']))))\n",
    "\n",
    "reading_B_df = preprocessing_reading(reading=interactions_B,\n",
    "                                     evidence_score_cols=evidence_scoring_cols,\n",
    "                                     atts=attributes)\n",
    "counter_B = {'corroboration': [], 'contradiction': []}\n",
    "scored = score_reading(reading_B_df, \n",
    "                       model_B_df, \n",
    "                       graph_B, \n",
    "                       counter=counter_B,\n",
    "                       kind_values=kind_dict, \n",
    "                       match_values=match_dict, \n",
    "                       attributes=attributes, \n",
    "                       classify_scheme=approach)\n",
    "output_file = f'test/test_result' + '/' + interactions_B.split('/')[-1].split('_biorecipe')[0]\n",
    "output(scored, output_file, kind_values=kind_dict)\n",
    "print('corroboration in model: {}'.format(len(set(counter_B['corroboration']))))\n",
    "print('contradiction in model: {}'.format(len(set(counter_B['contradiction']))))\n"
   ],
   "id": "3a4b2ef88ede2c87",
   "outputs": [
    {
     "name": "stdout",
     "output_type": "stream",
     "text": [
      "266\n",
      "corroboration in model: 264\n",
      "contradiction in model: 0\n",
      "72\n",
      "corroboration in model: 71\n",
      "contradiction in model: 0\n"
     ]
    }
   ],
   "execution_count": 29
  },
  {
   "metadata": {},
   "cell_type": "markdown",
   "source": "### TESTING Task 3 & 4",
   "id": "802a81a2305cd9d0"
  },
  {
   "metadata": {
    "ExecuteTime": {
     "end_time": "2024-06-20T19:07:10.503304Z",
     "start_time": "2024-06-20T19:07:09.924425Z"
    }
   },
   "cell_type": "code",
   "source": [
    "# Randomly choose some interactions from modelA\n",
    "import random \n",
    "random.seed(10)\n",
    "\n",
    "random_A_df = reading_A_df.sample(n=50).reset_index()\n",
    "random_B_df = reading_B_df.sample(n=25).reset_index()\n",
    "\n",
    "counter_A = {'corroboration': [], 'contradiction': []}\n",
    "scored = score_reading(random_A_df, \n",
    "                       model_A_df, \n",
    "                       graph_A, \n",
    "                       counter=counter_A,\n",
    "                       kind_values=kind_dict, \n",
    "                       match_values=match_dict, \n",
    "                       attributes=attributes, \n",
    "                       classify_scheme=approach,\n",
    "                       )\n",
    "output_file = f'test/test_result' + '/' + interactions_A.split('/')[-1].split('_biorecipe')[0]\n",
    "output(scored, output_file, kind_values=kind_dict)\n",
    "print('corroboration in model: {}'.format(len(set(counter_A['corroboration']))))\n",
    "print('contradiction in model: {}'.format(len(set(counter_A['contradiction']))))\n",
    "\n",
    "counter_B = {'corroboration': [], 'contradiction': []}\n",
    "scored = score_reading(random_B_df, \n",
    "                       model_B_df, \n",
    "                       graph_B, \n",
    "                       counter=counter_B,\n",
    "                       kind_values=kind_dict, \n",
    "                       match_values=match_dict, \n",
    "                       attributes=attributes, \n",
    "                       classify_scheme=approach)\n",
    "output_file = f'test/test_result' + '/' + interactions_B.split('/')[-1].split('_biorecipe')[0]\n",
    "output(scored, output_file, kind_values=kind_dict)\n",
    "print('corroboration in model: {}'.format(len(set(counter_B['corroboration']))))\n",
    "print('contradiction in model: {}'.format(len(set(counter_B['contradiction']))))\n"
   ],
   "id": "42e1e7efdd4cbf19",
   "outputs": [
    {
     "name": "stdout",
     "output_type": "stream",
     "text": [
      "50\n",
      "corroboration in model: 50\n",
      "contradiction in model: 0\n",
      "25\n",
      "corroboration in model: 25\n",
      "contradiction in model: 0\n"
     ]
    }
   ],
   "execution_count": 42
  },
  {
   "metadata": {},
   "cell_type": "markdown",
   "source": "### TESTING Task 5 & 6 ",
   "id": "36d7d71e192d7127"
  },
  {
   "metadata": {
    "ExecuteTime": {
     "end_time": "2024-06-20T16:46:00.372823Z",
     "start_time": "2024-06-20T16:45:56.955004Z"
    }
   },
   "cell_type": "code",
   "source": [
    "# import RA2.0.1.1 to verify the extension\n",
    "extension_reading = os.getcwd() + '/'+ 'input/interactions/example/RA2_0_1_1_reading_BioRECIPE.xlsx'\n",
    "extension_A_df = preprocessing_reading(reading=extension_reading, \n",
    "                                     evidence_score_cols=evidence_scoring_cols, \n",
    "                                     atts=attributes)\n",
    "counter_A = {'corroboration': [], 'contradiction': []}\n",
    "scored = score_reading(extension_A_df, \n",
    "                       model_A_df, \n",
    "                       graph_A, \n",
    "                       counter=counter_A, \n",
    "                       kind_values=kind_dict, \n",
    "                       match_values=match_dict, \n",
    "                       attributes=attributes, \n",
    "                       classify_scheme=approach, \n",
    "                       )\n",
    "output_file = f'test/test_result' + '/' + extension_reading.split('/')[-1].split('_reading_BioRECIPE')[0]\n",
    "output(scored, output_file, kind_values=kind_dict)\n",
    "print('corroboration in model: {}'.format(len(set(counter_A['corroboration']))))\n",
    "print('contradiction in model: {}'.format(len(set(counter_A['contradiction']))))"
   ],
   "id": "597203d3387b1fd7",
   "outputs": [
    {
     "name": "stdout",
     "output_type": "stream",
     "text": [
      "1006\n",
      "corroboration in model: 19\n",
      "contradiction in model: 13\n"
     ]
    }
   ],
   "execution_count": 30
  },
  {
   "metadata": {},
   "cell_type": "code",
   "outputs": [],
   "execution_count": null,
   "source": "",
   "id": "83a8647e594c0018"
  }
 ],
 "metadata": {
  "kernelspec": {
   "display_name": "Python 3",
   "language": "python",
   "name": "python3"
  },
  "language_info": {
   "codemirror_mode": {
    "name": "ipython",
    "version": 2
   },
   "file_extension": ".py",
   "mimetype": "text/x-python",
   "name": "python",
   "nbconvert_exporter": "python",
   "pygments_lexer": "ipython2",
   "version": "2.7.6"
  }
 },
 "nbformat": 4,
 "nbformat_minor": 5
}
