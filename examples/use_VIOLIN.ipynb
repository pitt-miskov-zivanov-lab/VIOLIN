{
 "cells": [
  {
   "cell_type": "code",
   "id": "initial_id",
   "metadata": {
    "collapsed": true,
    "ExecuteTime": {
     "end_time": "2024-06-15T16:03:18.257386Z",
     "start_time": "2024-06-15T16:03:17.801080Z"
    }
   },
   "source": [
    "import sys\n",
    "import os\n",
    "import warnings\n",
    "import pandas as pd\n",
    "warnings.filterwarnings('ignore')\n",
    "sys.path.insert(0, os.path.abspath(os.path.join(os.getcwd(), os.pardir, 'src/violin/')))"
   ],
   "execution_count": 1,
   "outputs": []
  },
  {
   "metadata": {
    "ExecuteTime": {
     "end_time": "2024-06-15T16:03:18.265501Z",
     "start_time": "2024-06-15T16:03:18.260863Z"
    }
   },
   "cell_type": "code",
   "source": [
    "model_file = 'input/models/SkMel133_biorecipe.xlsx'\n",
    "reading_file = 'input/interactions/example/RA2_reading_BioRECIPE.xlsx'\n",
    "out_file = 'output/example/RA2'"
   ],
   "id": "95a0def3384447ba",
   "execution_count": 2,
   "outputs": []
  },
  {
   "metadata": {
    "ExecuteTime": {
     "end_time": "2024-06-15T16:03:18.845522Z",
     "start_time": "2024-06-15T16:03:18.268485Z"
    }
   },
   "cell_type": "code",
   "source": [
    "###Preamble###\n",
    "%load_ext autoreload\n",
    "%autoreload 2\n",
    "\n",
    "from src.violin.in_out import preprocessing_model,preprocessing_reading,output\n",
    "from src.violin.scoring import score_reading\n",
    "from src.violin.network import node_edge_list\n",
    "from src.violin.visualize_violin import visualize"
   ],
   "id": "9439228a65877811",
   "execution_count": 3,
   "outputs": []
  },
  {
   "metadata": {
    "ExecuteTime": {
     "end_time": "2024-06-15T16:03:18.880516Z",
     "start_time": "2024-06-15T16:03:18.849116Z"
    }
   },
   "cell_type": "code",
   "source": [
    "###Parameters###\n",
    "# Choose a classify approach ('1', '2', or '3')\n",
    "approach = '1' # default is '1'\n",
    "\n",
    "# Scoring values defined for scheme '1' and '2'\n",
    "kind_dict = {\"strong corroboration\" : 2, \n",
    "                \"empty attribute\" : 1,\n",
    "                \"indirect interaction\" : 3,\n",
    "                \"path corroboration\" : 5,\n",
    "                \"specification\" : 7,\n",
    "                \"hanging extension\" : 40, \n",
    "                \"full extension\" : 39, \n",
    "                \"internal extension\" : 38,  \n",
    "                \"dir contradiction\" : 11,\n",
    "                \"sign contradiction\" : 10, \n",
    "                \"att contradiction\" : 9,\n",
    "                \"dir mismatch\" : 20,\n",
    "                \"path mismatch\" : 19,\n",
    "                \"self-regulation\" : 18}\n",
    "\n",
    "#Scoring values defined for scheme 3\n",
    "# kind_dict = {\"strong corroboration\" : 1, \n",
    "#                 \"weak corroboration1\" : 2,\n",
    "#                 \"weak corroboration2\" : 3,\n",
    "#                 \"weak corroboration3\" : 4,\n",
    "#                 \"hanging extension\" : 40, \n",
    "#                 \"full extension\" : 39, \n",
    "#                 \"internal extension\" : 38, \n",
    "#                 \"specification\" : 37, \n",
    "#                 \"dir contradiction\" : 10,\n",
    "#                 \"sign contradiction\" : 9,\n",
    "#                 \"att contradiction\" : 8,\n",
    "#                 \"flagged1\" : 20,\n",
    "#                 \"flagged2\" : 19,\n",
    "#                 \"flagged3\" : 18,\n",
    "#                 \"flagged4\" : 17,\n",
    "#                 \"flagged5\" : 16}\n",
    "\n",
    "match_dict = {\"source present\" : 1, \n",
    "                \"target present\" : 100, \n",
    "                \"both present\" : 10, \n",
    "                \"neither present\" : 0.1}\n",
    "# Typically, VIOLIN is using different statements from papers to compute the score of evidence\n",
    "# To compare if the interactions are identity, we only compare the columns that are not related to statments, confidence score, paper ids, and database source  \n",
    "evidence_scoring_cols = [\"Regulator Name\", \"Regulator Type\", \"Regulator Subtype\", \"Regulator HGNC Symbol\", \"Regulator Database\", \"Regulator ID\", \"Regulator Compartment\", \"Regulator Compartment ID\",\n",
    "                        \"Regulated Name\", \"Regulated Type\", \"Regulated Subtype\", \"Regulated HGNC Symbol\", \"Regulated Database\", \"Regulated ID\", \"Regulated Compartment\", \"Regulated Compartment ID\",\n",
    "                        \"Sign\", \"Connection Type\", \"Mechanism\", \"Site\",\n",
    "                        \"Cell Line\", \"Cell Type\", \"Tissue Type\", \"Organism\"]\n",
    "\n",
    "attributes = ['Regulated Compartment ID', 'Regulator Compartment ID']"
   ],
   "id": "bc8d5163f5e26d9b",
   "execution_count": 4,
   "outputs": []
  },
  {
   "metadata": {
    "ExecuteTime": {
     "end_time": "2024-06-15T16:03:26.879656Z",
     "start_time": "2024-06-15T16:03:18.883708Z"
    }
   },
   "cell_type": "code",
   "source": [
    "###_File input and formatting_###\n",
    "###This assumes the input files match the default input REACH and BioRECIPES formats###\n",
    "\n",
    "# import model, normalize attributes info of nodes and edges\n",
    "model_df = preprocessing_model(model_file)\n",
    "# import interactions, normalize interactions attributes, merge duplicates\n",
    "reading_df = preprocessing_reading(reading=reading_file, evidence_score_cols=evidence_scoring_cols, atts = attributes)\n",
    "# Convert the model as a graph\n",
    "graph = node_edge_list(model_df)"
   ],
   "id": "7df00da42daa86cb",
   "execution_count": 5,
   "outputs": []
  },
  {
   "metadata": {
    "ExecuteTime": {
     "end_time": "2024-06-15T16:03:32.906127Z",
     "start_time": "2024-06-15T16:03:26.881876Z"
    }
   },
   "cell_type": "code",
   "source": [
    "###_Scoring_###\n",
    "\n",
    "scored = score_reading(reading_df,model_df,graph,kind_values = kind_dict,match_values = match_dict,attributes = attributes, classify_scheme=approach)"
   ],
   "id": "d024e19931972f16",
   "execution_count": 6,
   "outputs": []
  },
  {
   "metadata": {
    "ExecuteTime": {
     "end_time": "2024-06-15T16:03:35.690170Z",
     "start_time": "2024-06-15T16:03:32.908474Z"
    }
   },
   "cell_type": "code",
   "source": [
    "###_Output_###\n",
    "\n",
    "output(scored,out_file,kind_values=kind_dict)"
   ],
   "id": "7684846218fa5c9a",
   "execution_count": 7,
   "outputs": []
  },
  {
   "metadata": {
    "ExecuteTime": {
     "end_time": "2024-06-15T16:03:37.996487Z",
     "start_time": "2024-06-15T16:03:35.692088Z"
    }
   },
   "cell_type": "code",
   "source": [
    "###_Visualization_###\n",
    "visualize(match_dict, kind_dict, out_file+'_outputDF.csv', filter_opt='100%')"
   ],
   "id": "3f1dd35f025d50cc",
   "execution_count": 8,
   "outputs": []
  }
 ],
 "metadata": {
  "kernelspec": {
   "display_name": "Python 3",
   "language": "python",
   "name": "python3"
  },
  "language_info": {
   "codemirror_mode": {
    "name": "ipython",
    "version": 2
   },
   "file_extension": ".py",
   "mimetype": "text/x-python",
   "name": "python",
   "nbconvert_exporter": "python",
   "pygments_lexer": "ipython2",
   "version": "2.7.6"
  }
 },
 "nbformat": 4,
 "nbformat_minor": 5
}
