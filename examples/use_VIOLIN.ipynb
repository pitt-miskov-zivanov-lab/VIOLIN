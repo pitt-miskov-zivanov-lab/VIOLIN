{
 "cells": [
  {
   "cell_type": "code",
   "metadata": {
    "ExecuteTime": {
     "end_time": "2024-05-22T23:02:44.009994Z",
     "start_time": "2024-05-22T23:02:43.531366Z"
    }
   },
   "source": [
    "import sys\n",
    "import os\n",
    "import warnings\n",
    "import tempfile\n",
    "import pandas as pd\n",
    "warnings.filterwarnings('ignore')\n",
    "sys.path.insert(0, os.path.abspath(os.path.join(os.getcwd(), os.pardir, 'src/violin/')))"
   ],
   "outputs": [],
   "execution_count": 1
  },
  {
   "cell_type": "code",
   "metadata": {
    "ExecuteTime": {
     "end_time": "2024-05-22T23:02:44.017701Z",
     "start_time": "2024-05-22T23:02:44.013076Z"
    }
   },
   "source": [
    "model_file = 'input/Tcell_model_biorecipe.xlsx'\n",
    "reading_file = 'input/RAj_reading_biorecipe.xlsx'\n",
    "out_file = 'output/Tcell'"
   ],
   "outputs": [],
   "execution_count": 2
  },
  {
   "cell_type": "code",
   "metadata": {
    "ExecuteTime": {
     "end_time": "2024-05-22T23:02:44.740037Z",
     "start_time": "2024-05-22T23:02:44.020701Z"
    }
   },
   "source": [
    "###Preamble###\n",
    "%load_ext autoreload\n",
    "%autoreload 2\n",
    "\n",
    "from in_out import input_biorecipes,input_reading,output, biorecipe_to_violin\n",
    "from scoring import score_reading\n",
    "from network import node_edge_list\n",
    "from formatting import convert_reading\n",
    "from visualize_violin import visualize\n",
    "from utils import *"
   ],
   "outputs": [],
   "execution_count": 3
  },
  {
   "cell_type": "code",
   "metadata": {
    "ExecuteTime": {
     "end_time": "2024-05-22T23:02:44.788078Z",
     "start_time": "2024-05-22T23:02:44.745215Z"
    }
   },
   "source": [
    "###Parameters###\n",
    " \n",
    "#Scoring values defined\n",
    "kind_dict = {\"strong corroboration\" : 2, \n",
    "                \"weak corroboration1\" : 1,\n",
    "                \"weak corroboration2\" : 1,\n",
    "                \"weak corroboration3\" : 1,\n",
    "                \"hanging extension\" : 40, \n",
    "                \"full extension\" : 40, \n",
    "                \"internal extension\" : 40, \n",
    "                \"specification\" : 30, \n",
    "                \"dir contradiction\" : 10,\n",
    "                \"sign contradiction\" : 10,\n",
    "                \"att contradiction\" : 10,\n",
    "                \"flagged1\" : 20,\n",
    "                \"flagged2\" : 20,\n",
    "                \"flagged3\" : 20,\n",
    "                \"flagged4\" : 15,\n",
    "                \"flagged5\" : 16}\n",
    "match_dict = {\"source present\" : 1, \n",
    "                \"target present\" : 100, \n",
    "                \"both present\" : 10, \n",
    "                \"neither present\" : 0.1}\n",
    "#These column names are the attributes used to determine \n",
    "#duplicate interactions in evidence_score()\n",
    "evidence_score_cols = ['Element Name','Element Type','Element ID','Location',\n",
    "                       'Location ID','Cell Line','Cell Type','Organism',\n",
    "                       'Positive Reg Name','Positive Reg Type','Positive Reg ID',\n",
    "                       'Positive Reg Location','Positive Reg Location ID',\n",
    "                       'Negative Reg Name','Negative Reg Type','Negative Reg ID',\n",
    "                       'Negative Reg Location','Negative Reg Location ID','Connection Type']\n",
    "#Attributes Compared\n",
    "attributes = ['Location ID']   \n",
    " "
   ],
   "outputs": [],
   "execution_count": 4
  },
  {
   "cell_type": "code",
   "metadata": {
    "ExecuteTime": {
     "end_time": "2024-05-22T23:02:45.472126Z",
     "start_time": "2024-05-22T23:02:44.791717Z"
    }
   },
   "source": [
    "###_Format wrapping_###\n",
    "\n",
    "model_tf = tempfile.NamedTemporaryFile(suffix='.xlsx')\n",
    "reading_tf = tempfile.NamedTemporaryFile(suffix='.xlsx')\n",
    "norm_model(model_file, model_tf)\n",
    "reading_df = biorecipe_to_violin(reading_file)\n",
    "reading_df.to_excel(reading_tf, index=False)"
   ],
   "outputs": [],
   "execution_count": 5
  },
  {
   "cell_type": "code",
   "metadata": {
    "ExecuteTime": {
     "end_time": "2024-05-22T23:02:45.728260Z",
     "start_time": "2024-05-22T23:02:45.474044Z"
    }
   },
   "source": [
    "###_File input and formatting_###\n",
    "###This assumes the input files match the default input REACH and BioRECIPES formats###\n",
    "\n",
    "model_df = input_biorecipes(model_tf.name)\n",
    "\n",
    "#reading_df, reading_cols = input_reading(VIOLIN_reading=reading_file, evidence_score_cols=evidence_score_cols, atts = attributes)\n",
    "reading_df, reading_cols = input_reading(reading=reading_tf.name, evidence_score_cols=evidence_score_cols, atts = attributes)\n",
    "\n",
    "graph = node_edge_list(model_df)"
   ],
   "outputs": [],
   "execution_count": 6
  },
  {
   "metadata": {
    "ExecuteTime": {
     "end_time": "2024-05-22T23:02:45.810969Z",
     "start_time": "2024-05-22T23:02:45.729783Z"
    }
   },
   "cell_type": "code",
   "source": "reading_df",
   "outputs": [
    {
     "data": {
      "text/plain": [
       "    Element Name Element Type Element ID Location Location ID Cell Line  \\\n",
       "0            akt       family     p31749      nan         nan       nan   \n",
       "1            akt       family     p31749      nan         nan       nan   \n",
       "2            akt       family     p31749      nan         nan       nan   \n",
       "3            akt       family     p31749      nan         nan       nan   \n",
       "4            akt       family     p31749      nan         nan       nan   \n",
       "..           ...          ...        ...      ...         ...       ...   \n",
       "97           s5b      protein   uaz02655      nan         nan       nan   \n",
       "98          tbk1      protein     q9uhd2      nan         nan       nan   \n",
       "99          tbk1      protein     q9uhd2      nan         nan       nan   \n",
       "100         th17      protein   uaz02468      nan         nan       nan   \n",
       "101         treg      protein   uaz02439      nan         nan       nan   \n",
       "\n",
       "    Cell Type Organism Positive Reg Name Positive Reg Type  ...  \\\n",
       "0         nan      nan              chk1           protein  ...   \n",
       "1         nan      nan               ck2           protein  ...   \n",
       "2         nan      nan          ifngamma           protein  ...   \n",
       "3         nan      nan              mtor           protein  ...   \n",
       "4         nan      nan               nan               nan  ...   \n",
       "..        ...      ...               ...               ...  ...   \n",
       "97        nan      nan               erk            family  ...   \n",
       "98        nan      nan               akt            family  ...   \n",
       "99        nan      nan            mtorc1           protein  ...   \n",
       "100       nan      nan               itk           protein  ...   \n",
       "101       nan      nan               nan               nan  ...   \n",
       "\n",
       "    Negative Reg Type Negative Reg ID Negative Reg Location  \\\n",
       "0                 nan             nan                   nan   \n",
       "1                 nan             nan                   nan   \n",
       "2                 nan             nan                   nan   \n",
       "3                 nan             nan                   nan   \n",
       "4             protein          p16410                   nan   \n",
       "..                ...             ...                   ...   \n",
       "97                nan             nan                   nan   \n",
       "98                nan             nan                   nan   \n",
       "99                nan             nan                   nan   \n",
       "100               nan             nan                   nan   \n",
       "101           protein          q9nzq7                   nan   \n",
       "\n",
       "    Negative Reg Location ID Connection Type Database Name   Mechanism  \\\n",
       "0                        nan               i         [nan]       [nan]   \n",
       "1                        nan               i         [nan]       [nan]   \n",
       "2                        nan               i         [nan]       [nan]   \n",
       "3                        nan               i         [nan]       [nan]   \n",
       "4                        nan               i         [nan]       [nan]   \n",
       "..                       ...             ...           ...         ...   \n",
       "97                       nan               i         [nan]       [nan]   \n",
       "98                       nan               i    [nan, nan]  [nan, nan]   \n",
       "99                       nan               i         [nan]       [nan]   \n",
       "100                      nan               i         [nan]       [nan]   \n",
       "101                      nan               i         [nan]       [nan]   \n",
       "\n",
       "                     Paper ID    Evidence Evidence Score  \n",
       "0                [pmc3375464]       [nan]              1  \n",
       "1                [pmc5193405]       [nan]              1  \n",
       "2                [pmc4550078]       [nan]              1  \n",
       "3                [pmc4487994]       [nan]              1  \n",
       "4                [pmc4550078]       [nan]              1  \n",
       "..                        ...         ...            ...  \n",
       "97               [pmc3625979]       [nan]              1  \n",
       "98   [pmc4302769, pmc4302769]  [nan, nan]              2  \n",
       "99               [pmc4302769]       [nan]              1  \n",
       "100              [pmc3949578]       [nan]              1  \n",
       "101              [pmc4669187]       [nan]              1  \n",
       "\n",
       "[102 rows x 24 columns]"
      ],
      "text/html": [
       "<div>\n",
       "<style scoped>\n",
       "    .dataframe tbody tr th:only-of-type {\n",
       "        vertical-align: middle;\n",
       "    }\n",
       "\n",
       "    .dataframe tbody tr th {\n",
       "        vertical-align: top;\n",
       "    }\n",
       "\n",
       "    .dataframe thead th {\n",
       "        text-align: right;\n",
       "    }\n",
       "</style>\n",
       "<table border=\"1\" class=\"dataframe\">\n",
       "  <thead>\n",
       "    <tr style=\"text-align: right;\">\n",
       "      <th></th>\n",
       "      <th>Element Name</th>\n",
       "      <th>Element Type</th>\n",
       "      <th>Element ID</th>\n",
       "      <th>Location</th>\n",
       "      <th>Location ID</th>\n",
       "      <th>Cell Line</th>\n",
       "      <th>Cell Type</th>\n",
       "      <th>Organism</th>\n",
       "      <th>Positive Reg Name</th>\n",
       "      <th>Positive Reg Type</th>\n",
       "      <th>...</th>\n",
       "      <th>Negative Reg Type</th>\n",
       "      <th>Negative Reg ID</th>\n",
       "      <th>Negative Reg Location</th>\n",
       "      <th>Negative Reg Location ID</th>\n",
       "      <th>Connection Type</th>\n",
       "      <th>Database Name</th>\n",
       "      <th>Mechanism</th>\n",
       "      <th>Paper ID</th>\n",
       "      <th>Evidence</th>\n",
       "      <th>Evidence Score</th>\n",
       "    </tr>\n",
       "  </thead>\n",
       "  <tbody>\n",
       "    <tr>\n",
       "      <th>0</th>\n",
       "      <td>akt</td>\n",
       "      <td>family</td>\n",
       "      <td>p31749</td>\n",
       "      <td>nan</td>\n",
       "      <td>nan</td>\n",
       "      <td>nan</td>\n",
       "      <td>nan</td>\n",
       "      <td>nan</td>\n",
       "      <td>chk1</td>\n",
       "      <td>protein</td>\n",
       "      <td>...</td>\n",
       "      <td>nan</td>\n",
       "      <td>nan</td>\n",
       "      <td>nan</td>\n",
       "      <td>nan</td>\n",
       "      <td>i</td>\n",
       "      <td>[nan]</td>\n",
       "      <td>[nan]</td>\n",
       "      <td>[pmc3375464]</td>\n",
       "      <td>[nan]</td>\n",
       "      <td>1</td>\n",
       "    </tr>\n",
       "    <tr>\n",
       "      <th>1</th>\n",
       "      <td>akt</td>\n",
       "      <td>family</td>\n",
       "      <td>p31749</td>\n",
       "      <td>nan</td>\n",
       "      <td>nan</td>\n",
       "      <td>nan</td>\n",
       "      <td>nan</td>\n",
       "      <td>nan</td>\n",
       "      <td>ck2</td>\n",
       "      <td>protein</td>\n",
       "      <td>...</td>\n",
       "      <td>nan</td>\n",
       "      <td>nan</td>\n",
       "      <td>nan</td>\n",
       "      <td>nan</td>\n",
       "      <td>i</td>\n",
       "      <td>[nan]</td>\n",
       "      <td>[nan]</td>\n",
       "      <td>[pmc5193405]</td>\n",
       "      <td>[nan]</td>\n",
       "      <td>1</td>\n",
       "    </tr>\n",
       "    <tr>\n",
       "      <th>2</th>\n",
       "      <td>akt</td>\n",
       "      <td>family</td>\n",
       "      <td>p31749</td>\n",
       "      <td>nan</td>\n",
       "      <td>nan</td>\n",
       "      <td>nan</td>\n",
       "      <td>nan</td>\n",
       "      <td>nan</td>\n",
       "      <td>ifngamma</td>\n",
       "      <td>protein</td>\n",
       "      <td>...</td>\n",
       "      <td>nan</td>\n",
       "      <td>nan</td>\n",
       "      <td>nan</td>\n",
       "      <td>nan</td>\n",
       "      <td>i</td>\n",
       "      <td>[nan]</td>\n",
       "      <td>[nan]</td>\n",
       "      <td>[pmc4550078]</td>\n",
       "      <td>[nan]</td>\n",
       "      <td>1</td>\n",
       "    </tr>\n",
       "    <tr>\n",
       "      <th>3</th>\n",
       "      <td>akt</td>\n",
       "      <td>family</td>\n",
       "      <td>p31749</td>\n",
       "      <td>nan</td>\n",
       "      <td>nan</td>\n",
       "      <td>nan</td>\n",
       "      <td>nan</td>\n",
       "      <td>nan</td>\n",
       "      <td>mtor</td>\n",
       "      <td>protein</td>\n",
       "      <td>...</td>\n",
       "      <td>nan</td>\n",
       "      <td>nan</td>\n",
       "      <td>nan</td>\n",
       "      <td>nan</td>\n",
       "      <td>i</td>\n",
       "      <td>[nan]</td>\n",
       "      <td>[nan]</td>\n",
       "      <td>[pmc4487994]</td>\n",
       "      <td>[nan]</td>\n",
       "      <td>1</td>\n",
       "    </tr>\n",
       "    <tr>\n",
       "      <th>4</th>\n",
       "      <td>akt</td>\n",
       "      <td>family</td>\n",
       "      <td>p31749</td>\n",
       "      <td>nan</td>\n",
       "      <td>nan</td>\n",
       "      <td>nan</td>\n",
       "      <td>nan</td>\n",
       "      <td>nan</td>\n",
       "      <td>nan</td>\n",
       "      <td>nan</td>\n",
       "      <td>...</td>\n",
       "      <td>protein</td>\n",
       "      <td>p16410</td>\n",
       "      <td>nan</td>\n",
       "      <td>nan</td>\n",
       "      <td>i</td>\n",
       "      <td>[nan]</td>\n",
       "      <td>[nan]</td>\n",
       "      <td>[pmc4550078]</td>\n",
       "      <td>[nan]</td>\n",
       "      <td>1</td>\n",
       "    </tr>\n",
       "    <tr>\n",
       "      <th>...</th>\n",
       "      <td>...</td>\n",
       "      <td>...</td>\n",
       "      <td>...</td>\n",
       "      <td>...</td>\n",
       "      <td>...</td>\n",
       "      <td>...</td>\n",
       "      <td>...</td>\n",
       "      <td>...</td>\n",
       "      <td>...</td>\n",
       "      <td>...</td>\n",
       "      <td>...</td>\n",
       "      <td>...</td>\n",
       "      <td>...</td>\n",
       "      <td>...</td>\n",
       "      <td>...</td>\n",
       "      <td>...</td>\n",
       "      <td>...</td>\n",
       "      <td>...</td>\n",
       "      <td>...</td>\n",
       "      <td>...</td>\n",
       "      <td>...</td>\n",
       "    </tr>\n",
       "    <tr>\n",
       "      <th>97</th>\n",
       "      <td>s5b</td>\n",
       "      <td>protein</td>\n",
       "      <td>uaz02655</td>\n",
       "      <td>nan</td>\n",
       "      <td>nan</td>\n",
       "      <td>nan</td>\n",
       "      <td>nan</td>\n",
       "      <td>nan</td>\n",
       "      <td>erk</td>\n",
       "      <td>family</td>\n",
       "      <td>...</td>\n",
       "      <td>nan</td>\n",
       "      <td>nan</td>\n",
       "      <td>nan</td>\n",
       "      <td>nan</td>\n",
       "      <td>i</td>\n",
       "      <td>[nan]</td>\n",
       "      <td>[nan]</td>\n",
       "      <td>[pmc3625979]</td>\n",
       "      <td>[nan]</td>\n",
       "      <td>1</td>\n",
       "    </tr>\n",
       "    <tr>\n",
       "      <th>98</th>\n",
       "      <td>tbk1</td>\n",
       "      <td>protein</td>\n",
       "      <td>q9uhd2</td>\n",
       "      <td>nan</td>\n",
       "      <td>nan</td>\n",
       "      <td>nan</td>\n",
       "      <td>nan</td>\n",
       "      <td>nan</td>\n",
       "      <td>akt</td>\n",
       "      <td>family</td>\n",
       "      <td>...</td>\n",
       "      <td>nan</td>\n",
       "      <td>nan</td>\n",
       "      <td>nan</td>\n",
       "      <td>nan</td>\n",
       "      <td>i</td>\n",
       "      <td>[nan, nan]</td>\n",
       "      <td>[nan, nan]</td>\n",
       "      <td>[pmc4302769, pmc4302769]</td>\n",
       "      <td>[nan, nan]</td>\n",
       "      <td>2</td>\n",
       "    </tr>\n",
       "    <tr>\n",
       "      <th>99</th>\n",
       "      <td>tbk1</td>\n",
       "      <td>protein</td>\n",
       "      <td>q9uhd2</td>\n",
       "      <td>nan</td>\n",
       "      <td>nan</td>\n",
       "      <td>nan</td>\n",
       "      <td>nan</td>\n",
       "      <td>nan</td>\n",
       "      <td>mtorc1</td>\n",
       "      <td>protein</td>\n",
       "      <td>...</td>\n",
       "      <td>nan</td>\n",
       "      <td>nan</td>\n",
       "      <td>nan</td>\n",
       "      <td>nan</td>\n",
       "      <td>i</td>\n",
       "      <td>[nan]</td>\n",
       "      <td>[nan]</td>\n",
       "      <td>[pmc4302769]</td>\n",
       "      <td>[nan]</td>\n",
       "      <td>1</td>\n",
       "    </tr>\n",
       "    <tr>\n",
       "      <th>100</th>\n",
       "      <td>th17</td>\n",
       "      <td>protein</td>\n",
       "      <td>uaz02468</td>\n",
       "      <td>nan</td>\n",
       "      <td>nan</td>\n",
       "      <td>nan</td>\n",
       "      <td>nan</td>\n",
       "      <td>nan</td>\n",
       "      <td>itk</td>\n",
       "      <td>protein</td>\n",
       "      <td>...</td>\n",
       "      <td>nan</td>\n",
       "      <td>nan</td>\n",
       "      <td>nan</td>\n",
       "      <td>nan</td>\n",
       "      <td>i</td>\n",
       "      <td>[nan]</td>\n",
       "      <td>[nan]</td>\n",
       "      <td>[pmc3949578]</td>\n",
       "      <td>[nan]</td>\n",
       "      <td>1</td>\n",
       "    </tr>\n",
       "    <tr>\n",
       "      <th>101</th>\n",
       "      <td>treg</td>\n",
       "      <td>protein</td>\n",
       "      <td>uaz02439</td>\n",
       "      <td>nan</td>\n",
       "      <td>nan</td>\n",
       "      <td>nan</td>\n",
       "      <td>nan</td>\n",
       "      <td>nan</td>\n",
       "      <td>nan</td>\n",
       "      <td>nan</td>\n",
       "      <td>...</td>\n",
       "      <td>protein</td>\n",
       "      <td>q9nzq7</td>\n",
       "      <td>nan</td>\n",
       "      <td>nan</td>\n",
       "      <td>i</td>\n",
       "      <td>[nan]</td>\n",
       "      <td>[nan]</td>\n",
       "      <td>[pmc4669187]</td>\n",
       "      <td>[nan]</td>\n",
       "      <td>1</td>\n",
       "    </tr>\n",
       "  </tbody>\n",
       "</table>\n",
       "<p>102 rows × 24 columns</p>\n",
       "</div>"
      ]
     },
     "execution_count": 7,
     "metadata": {},
     "output_type": "execute_result"
    }
   ],
   "execution_count": 7
  },
  {
   "cell_type": "code",
   "metadata": {
    "ExecuteTime": {
     "end_time": "2024-05-22T23:11:50.459335Z",
     "start_time": "2024-05-22T23:11:50.321555Z"
    }
   },
   "source": [
    "###_Scoring_###\n",
    "\n",
    "scored = score_reading(reading_df,model_df,graph,reading_cols,kind_values = kind_dict,match_values = match_dict,attributes = attributes, classify_scheme='3')"
   ],
   "outputs": [
    {
     "name": "stdout",
     "output_type": "stream",
     "text": [
      "102\n"
     ]
    }
   ],
   "execution_count": 13
  },
  {
   "cell_type": "code",
   "metadata": {
    "ExecuteTime": {
     "end_time": "2024-05-22T23:11:52.450772Z",
     "start_time": "2024-05-22T23:11:51.287664Z"
    }
   },
   "source": [
    "###_Output_###\n",
    "\n",
    "output(scored,out_file,kind_values=kind_dict)"
   ],
   "outputs": [],
   "execution_count": 14
  },
  {
   "cell_type": "code",
   "metadata": {
    "ExecuteTime": {
     "end_time": "2024-05-22T23:11:54.625794Z",
     "start_time": "2024-05-22T23:11:53.142796Z"
    }
   },
   "source": [
    "###_Visualization_###\n",
    "visualize(match_dict, kind_dict, out_file+'_outputDF.csv', filter_opt='100%')"
   ],
   "outputs": [
    {
     "data": {
      "text/plain": [
       "<Figure size 1200x600 with 4 Axes>"
      ],
      "image/png": "[encoded data removed]"
     },
     "metadata": {},
     "output_type": "display_data"
    }
   ],
   "execution_count": 15
  },
  {
   "cell_type": "code",
   "metadata": {
    "ExecuteTime": {
     "end_time": "2024-05-22T23:02:49.967069Z",
     "start_time": "2024-05-22T23:02:48.306700Z"
    }
   },
   "source": [
    "visualize(match_dict, kind_dict, out_file+'_contradictions.csv', filter_opt='100%')"
   ],
   "outputs": [
    {
     "ename": "KeyError",
     "evalue": "'Evidence Score'",
     "output_type": "error",
     "traceback": [
      "\u001B[0;31m---------------------------------------------------------------------------\u001B[0m",
      "\u001B[0;31mKeyError\u001B[0m                                  Traceback (most recent call last)",
      "File \u001B[0;32m/Library/Frameworks/Python.framework/Versions/3.8/lib/python3.8/site-packages/pandas/core/indexes/base.py:3653\u001B[0m, in \u001B[0;36mIndex.get_loc\u001B[0;34m(self, key)\u001B[0m\n\u001B[1;32m   3652\u001B[0m \u001B[38;5;28;01mtry\u001B[39;00m:\n\u001B[0;32m-> 3653\u001B[0m     \u001B[38;5;28;01mreturn\u001B[39;00m \u001B[38;5;28;43mself\u001B[39;49m\u001B[38;5;241;43m.\u001B[39;49m\u001B[43m_engine\u001B[49m\u001B[38;5;241;43m.\u001B[39;49m\u001B[43mget_loc\u001B[49m\u001B[43m(\u001B[49m\u001B[43mcasted_key\u001B[49m\u001B[43m)\u001B[49m\n\u001B[1;32m   3654\u001B[0m \u001B[38;5;28;01mexcept\u001B[39;00m \u001B[38;5;167;01mKeyError\u001B[39;00m \u001B[38;5;28;01mas\u001B[39;00m err:\n",
      "File \u001B[0;32m/Library/Frameworks/Python.framework/Versions/3.8/lib/python3.8/site-packages/pandas/_libs/index.pyx:147\u001B[0m, in \u001B[0;36mpandas._libs.index.IndexEngine.get_loc\u001B[0;34m()\u001B[0m\n",
      "File \u001B[0;32m/Library/Frameworks/Python.framework/Versions/3.8/lib/python3.8/site-packages/pandas/_libs/index.pyx:176\u001B[0m, in \u001B[0;36mpandas._libs.index.IndexEngine.get_loc\u001B[0;34m()\u001B[0m\n",
      "File \u001B[0;32mpandas/_libs/hashtable_class_helper.pxi:7080\u001B[0m, in \u001B[0;36mpandas._libs.hashtable.PyObjectHashTable.get_item\u001B[0;34m()\u001B[0m\n",
      "File \u001B[0;32mpandas/_libs/hashtable_class_helper.pxi:7088\u001B[0m, in \u001B[0;36mpandas._libs.hashtable.PyObjectHashTable.get_item\u001B[0;34m()\u001B[0m\n",
      "\u001B[0;31mKeyError\u001B[0m: 'Evidence Score'",
      "\nThe above exception was the direct cause of the following exception:\n",
      "\u001B[0;31mKeyError\u001B[0m                                  Traceback (most recent call last)",
      "Cell \u001B[0;32mIn[11], line 1\u001B[0m\n\u001B[0;32m----> 1\u001B[0m \u001B[43mvisualize\u001B[49m\u001B[43m(\u001B[49m\u001B[43mmatch_dict\u001B[49m\u001B[43m,\u001B[49m\u001B[43m \u001B[49m\u001B[43mkind_dict\u001B[49m\u001B[43m,\u001B[49m\u001B[43m \u001B[49m\u001B[43mout_file\u001B[49m\u001B[38;5;241;43m+\u001B[39;49m\u001B[38;5;124;43m'\u001B[39;49m\u001B[38;5;124;43m_contradictions.csv\u001B[39;49m\u001B[38;5;124;43m'\u001B[39;49m\u001B[43m,\u001B[49m\u001B[43m \u001B[49m\u001B[43mfilter_opt\u001B[49m\u001B[38;5;241;43m=\u001B[39;49m\u001B[38;5;124;43m'\u001B[39;49m\u001B[38;5;124;43m100\u001B[39;49m\u001B[38;5;124;43m%\u001B[39;49m\u001B[38;5;124;43m'\u001B[39;49m\u001B[43m)\u001B[49m\n",
      "File \u001B[0;32m~/Desktop/github_local_copy/VIOLIN/src/violin/visualize_violin.py:247\u001B[0m, in \u001B[0;36mvisualize\u001B[0;34m(match_values, kind_values, file_name, filter_opt)\u001B[0m\n\u001B[1;32m    245\u001B[0m plt\u001B[38;5;241m.\u001B[39mfigure(figsize\u001B[38;5;241m=\u001B[39m(\u001B[38;5;241m12\u001B[39m, \u001B[38;5;241m6\u001B[39m))\n\u001B[1;32m    246\u001B[0m \u001B[38;5;66;03m#Evidence Score plots\u001B[39;00m\n\u001B[0;32m--> 247\u001B[0m evidence \u001B[38;5;241m=\u001B[39m \u001B[43mkept\u001B[49m\u001B[43m[\u001B[49m\u001B[38;5;124;43m'\u001B[39;49m\u001B[38;5;124;43mEvidence Score\u001B[39;49m\u001B[38;5;124;43m'\u001B[39;49m\u001B[43m]\u001B[49m\u001B[38;5;241m.\u001B[39mvalue_counts()\u001B[38;5;241m.\u001B[39mkeys()\u001B[38;5;241m.\u001B[39mtolist()\n\u001B[1;32m    248\u001B[0m counts \u001B[38;5;241m=\u001B[39m kept[\u001B[38;5;124m'\u001B[39m\u001B[38;5;124mEvidence Score\u001B[39m\u001B[38;5;124m'\u001B[39m]\u001B[38;5;241m.\u001B[39mvalue_counts()\u001B[38;5;241m.\u001B[39mtolist()\n\u001B[1;32m    249\u001B[0m plt\u001B[38;5;241m.\u001B[39msubplot(\u001B[38;5;241m2\u001B[39m, \u001B[38;5;241m2\u001B[39m, \u001B[38;5;241m1\u001B[39m)\n",
      "File \u001B[0;32m/Library/Frameworks/Python.framework/Versions/3.8/lib/python3.8/site-packages/pandas/core/frame.py:3761\u001B[0m, in \u001B[0;36mDataFrame.__getitem__\u001B[0;34m(self, key)\u001B[0m\n\u001B[1;32m   3759\u001B[0m \u001B[38;5;28;01mif\u001B[39;00m \u001B[38;5;28mself\u001B[39m\u001B[38;5;241m.\u001B[39mcolumns\u001B[38;5;241m.\u001B[39mnlevels \u001B[38;5;241m>\u001B[39m \u001B[38;5;241m1\u001B[39m:\n\u001B[1;32m   3760\u001B[0m     \u001B[38;5;28;01mreturn\u001B[39;00m \u001B[38;5;28mself\u001B[39m\u001B[38;5;241m.\u001B[39m_getitem_multilevel(key)\n\u001B[0;32m-> 3761\u001B[0m indexer \u001B[38;5;241m=\u001B[39m \u001B[38;5;28;43mself\u001B[39;49m\u001B[38;5;241;43m.\u001B[39;49m\u001B[43mcolumns\u001B[49m\u001B[38;5;241;43m.\u001B[39;49m\u001B[43mget_loc\u001B[49m\u001B[43m(\u001B[49m\u001B[43mkey\u001B[49m\u001B[43m)\u001B[49m\n\u001B[1;32m   3762\u001B[0m \u001B[38;5;28;01mif\u001B[39;00m is_integer(indexer):\n\u001B[1;32m   3763\u001B[0m     indexer \u001B[38;5;241m=\u001B[39m [indexer]\n",
      "File \u001B[0;32m/Library/Frameworks/Python.framework/Versions/3.8/lib/python3.8/site-packages/pandas/core/indexes/base.py:3655\u001B[0m, in \u001B[0;36mIndex.get_loc\u001B[0;34m(self, key)\u001B[0m\n\u001B[1;32m   3653\u001B[0m     \u001B[38;5;28;01mreturn\u001B[39;00m \u001B[38;5;28mself\u001B[39m\u001B[38;5;241m.\u001B[39m_engine\u001B[38;5;241m.\u001B[39mget_loc(casted_key)\n\u001B[1;32m   3654\u001B[0m \u001B[38;5;28;01mexcept\u001B[39;00m \u001B[38;5;167;01mKeyError\u001B[39;00m \u001B[38;5;28;01mas\u001B[39;00m err:\n\u001B[0;32m-> 3655\u001B[0m     \u001B[38;5;28;01mraise\u001B[39;00m \u001B[38;5;167;01mKeyError\u001B[39;00m(key) \u001B[38;5;28;01mfrom\u001B[39;00m \u001B[38;5;21;01merr\u001B[39;00m\n\u001B[1;32m   3656\u001B[0m \u001B[38;5;28;01mexcept\u001B[39;00m \u001B[38;5;167;01mTypeError\u001B[39;00m:\n\u001B[1;32m   3657\u001B[0m     \u001B[38;5;66;03m# If we have a listlike key, _check_indexing_error will raise\u001B[39;00m\n\u001B[1;32m   3658\u001B[0m     \u001B[38;5;66;03m#  InvalidIndexError. Otherwise we fall through and re-raise\u001B[39;00m\n\u001B[1;32m   3659\u001B[0m     \u001B[38;5;66;03m#  the TypeError.\u001B[39;00m\n\u001B[1;32m   3660\u001B[0m     \u001B[38;5;28mself\u001B[39m\u001B[38;5;241m.\u001B[39m_check_indexing_error(key)\n",
      "\u001B[0;31mKeyError\u001B[0m: 'Evidence Score'"
     ]
    },
    {
     "data": {
      "text/plain": [
       "<Figure size 1200x600 with 0 Axes>"
      ]
     },
     "metadata": {},
     "output_type": "display_data"
    }
   ],
   "execution_count": 11
  },
  {
   "cell_type": "code",
   "metadata": {
    "ExecuteTime": {
     "end_time": "2024-05-22T23:02:49.970947Z",
     "start_time": "2024-05-22T23:02:49.970302Z"
    }
   },
   "source": [
    "visualize(match_dict, kind_dict, out_file+'_extensions.csv', filter_opt='100%')"
   ],
   "outputs": [],
   "execution_count": null
  },
  {
   "cell_type": "code",
   "metadata": {
    "ExecuteTime": {
     "end_time": "2024-05-22T23:02:49.973264Z",
     "start_time": "2024-05-22T23:02:49.972825Z"
    }
   },
   "source": [
    "visualize(match_dict, kind_dict, out_file+'_corroborations.csv', filter_opt='100%')"
   ],
   "outputs": [],
   "execution_count": null
  },
  {
   "cell_type": "code",
   "metadata": {},
   "source": [
    "visualize(match_dict, kind_dict, out_file+'_flagged.csv', filter_opt='100%')"
   ],
   "outputs": [],
   "execution_count": null
  },
  {
   "metadata": {},
   "cell_type": "code",
   "source": "",
   "outputs": [],
   "execution_count": null
  }
 ],
 "metadata": {
  "kernelspec": {
   "display_name": "Python 3 (ipykernel)",
   "language": "python",
   "name": "python3"
  },
  "language_info": {
   "codemirror_mode": {
    "name": "ipython",
    "version": 3
   },
   "file_extension": ".py",
   "mimetype": "text/x-python",
   "name": "python",
   "nbconvert_exporter": "python",
   "pygments_lexer": "ipython3",
   "version": "3.9.6"
  }
 },
 "nbformat": 4,
 "nbformat_minor": 4
}
