{
 "cells": [
  {
   "cell_type": "code",
   "id": "initial_id",
   "metadata": {
    "collapsed": true,
    "ExecuteTime": {
     "end_time": "2024-07-08T14:12:46.863908Z",
     "start_time": "2024-07-08T14:12:45.177828Z"
    }
   },
   "source": [
    "import pandas as pd\n",
    "import re\n",
    "import os\n",
    "import sys \n",
    "import glob\n",
    "import warnings\n",
    "import time\n",
    "warnings.filterwarnings('ignore')\n",
    "sys.path.insert(0, os.path.abspath(os.path.join(os.getcwd(), os.pardir, 'src/violin/')))\n",
    "%load_ext autoreload\n",
    "%autoreload 2\n",
    "from violin.in_out import preprocessing_model, preprocessing_reading, output\n",
    "from violin.scoring import score_reading\n",
    "from violin.network import node_edge_list\n",
    "from violin.visualize_violin import visualize "
   ],
   "outputs": [],
   "execution_count": 1
  },
  {
   "metadata": {
    "ExecuteTime": {
     "end_time": "2024-07-08T14:12:46.905620Z",
     "start_time": "2024-07-08T14:12:46.866613Z"
    }
   },
   "cell_type": "code",
   "source": [
    "## Parameters ## \n",
    "approach = '3'\n",
    "kind_dict = {\"strong corroboration\" : 2, \n",
    "                \"empty attribute\" : 1,\n",
    "                \"indirect interaction\" : 3,\n",
    "                \"path corroboration\" : 5,\n",
    "                \"specification\" : 7,\n",
    "                \"hanging extension\" : 40, \n",
    "                \"full extension\" : 39, \n",
    "                \"internal extension\" : 38,  \n",
    "                \"dir contradiction\" : 11,\n",
    "                \"sign contradiction\" : 10, \n",
    "                \"att contradiction\" : 9,\n",
    "                \"dir mismatch\" : 20,\n",
    "                \"path mismatch\" : 19,\n",
    "                \"self-regulation\" : 18,\n",
    "                \"flagged4\":17,\n",
    "                \"flagged5\":16}\n",
    "match_dict = {\"source present\" : 1, \n",
    "                \"target present\" : 100, \n",
    "                \"both present\" : 10, \n",
    "                \"neither present\" : 0.1}\n",
    "evidence_scoring_cols = [\"Regulator Name\", \"Regulator Type\", \"Regulator Subtype\", \"Regulator HGNC Symbol\", \"Regulator Database\", \"Regulator ID\", \"Regulator Compartment\", \"Regulator Compartment ID\",\n",
    "                        \"Regulated Name\", \"Regulated Type\", \"Regulated Subtype\", \"Regulated HGNC Symbol\", \"Regulated Database\", \"Regulated ID\", \"Regulated Compartment\", \"Regulated Compartment ID\",\n",
    "                        \"Sign\", \"Connection Type\", \"Mechanism\", \"Site\",\n",
    "                        \"Cell Line\", \"Cell Type\", \"Tissue Type\", \"Organism\"]\n",
    "attributes = ['Regulated Compartment ID', 'Regulator Compartment ID']"
   ],
   "id": "460fa71c1825b575",
   "outputs": [],
   "execution_count": 2
  },
  {
   "metadata": {
    "ExecuteTime": {
     "end_time": "2024-07-08T14:12:56.737179Z",
     "start_time": "2024-07-08T14:12:55.218911Z"
    }
   },
   "cell_type": "code",
   "source": [
    "reader = 'INDRA'\n",
    "model_files = ['input/models/SkMel133_biorecipe.xlsx', 'input/models/ModelB_discrete_biorecipe.xlsx']\n",
    "reading_A_files = glob.glob(f'input/interactions/{reader}/RA*.xlsx')\n",
    "reading_B_files = glob.glob(f'input/interactions/{reader}/RB*.xlsx')\n",
    "\n",
    "model_A_df = preprocessing_model(model_files[0])\n",
    "model_B_df = preprocessing_model(model_files[1])\n",
    "\n",
    "graph_A = node_edge_list(model_A_df)\n",
    "graph_B = node_edge_list(model_B_df)"
   ],
   "id": "b56f62e23cd1c6a3",
   "outputs": [],
   "execution_count": 3
  },
  {
   "metadata": {
    "ExecuteTime": {
     "end_time": "2024-07-08T14:16:26.601339Z",
     "start_time": "2024-07-08T14:12:59.565200Z"
    }
   },
   "cell_type": "code",
   "source": [
    "reader = f'{reader}/v3'\n",
    "for reading_file in reading_A_files:\n",
    "    output_file = f'output/{reader}' + '/' + reading_file.split('/')[-1].split('_reading_BioRECIPE')[0]\n",
    "    print(output_file)\n",
    "    time1 = time.time()\n",
    "    reading_df = preprocessing_reading(reading=reading_file, \n",
    "                                       evidence_score_cols=evidence_scoring_cols, \n",
    "                                       atts=attributes)\n",
    "    counter_A = {'corroboration': [], 'contradiction': []}\n",
    "    scored = score_reading(reading_df, \n",
    "                       model_A_df, \n",
    "                       graph_A, \n",
    "                       counter=counter_A,\n",
    "                       kind_values=kind_dict, \n",
    "                       match_values=match_dict, \n",
    "                       attributes=attributes, \n",
    "                       classify_scheme=approach,\n",
    "                       )\n",
    "    output(scored, output_file, kind_values=kind_dict)\n",
    "    print(time.time() - time1)\n",
    "    print('corroboration in model: {}'.format(len(set(counter_A['corroboration']))))\n",
    "    print('contradiction in model: {}'.format(len(set(counter_A['contradiction']))))\n",
    "\n",
    "for reading_file in reading_B_files:\n",
    "    output_file = f'output/{reader}' + '/' + reading_file.split('/')[-1].split('_reading_BioRECIPE')[0]\n",
    "    print(output_file)\n",
    "    time1 = time.time()\n",
    "    reading_df = preprocessing_reading(reading=reading_file, \n",
    "                                       evidence_score_cols=evidence_scoring_cols, \n",
    "                                       atts=attributes)\n",
    "    counter_B = {'corroboration': [], 'contradiction': []}\n",
    "    scored = score_reading(reading_df, \n",
    "                       model_B_df, \n",
    "                       graph_B, \n",
    "                       counter=counter_B,\n",
    "                       kind_values=kind_dict, \n",
    "                       match_values=match_dict, \n",
    "                       attributes=attributes, \n",
    "                       classify_scheme=approach)\n",
    "    output(scored, output_file, kind_values=kind_dict)\n",
    "    print(time.time() - time1)\n",
    "    print('corroboration in model: {}'.format(len(set(counter_B['corroboration']))))\n",
    "    print('contradiction in model: {}'.format(len(set(counter_B['contradiction']))))"
   ],
   "id": "58000b78087ab95e",
   "outputs": [
    {
     "name": "stdout",
     "output_type": "stream",
     "text": [
      "output/INDRA/v3/RA4\n",
      "30\n",
      "0.18699288368225098\n",
      "corroboration in model: 0\n",
      "contradiction in model: 0\n",
      "output/INDRA/v3/RA3\n",
      "559\n",
      "2.5807530879974365\n",
      "corroboration in model: 2\n",
      "contradiction in model: 1\n",
      "output/INDRA/v3/RA2\n",
      "1524\n",
      "5.772835731506348\n",
      "corroboration in model: 11\n",
      "contradiction in model: 7\n",
      "output/INDRA/v3/RA1\n",
      "51628\n",
      "189.2358410358429\n",
      "corroboration in model: 67\n",
      "contradiction in model: 41\n",
      "output/INDRA/v3/RB_star_1\n",
      "787\n",
      "2.5658509731292725\n",
      "corroboration in model: 0\n",
      "contradiction in model: 0\n",
      "output/INDRA/v3/RB_star_2\n",
      "582\n",
      "1.7874302864074707\n",
      "corroboration in model: 0\n",
      "contradiction in model: 0\n",
      "output/INDRA/v3/RB1\n",
      "619\n",
      "2.2089409828186035\n",
      "corroboration in model: 1\n",
      "contradiction in model: 0\n",
      "output/INDRA/v3/RB2\n",
      "363\n",
      "1.273766040802002\n",
      "corroboration in model: 0\n",
      "contradiction in model: 0\n",
      "output/INDRA/v3/RB3\n",
      "384\n",
      "1.3600120544433594\n",
      "corroboration in model: 0\n",
      "contradiction in model: 1\n"
     ]
    }
   ],
   "execution_count": 4
  },
  {
   "metadata": {},
   "cell_type": "code",
   "outputs": [],
   "execution_count": null,
   "source": "",
   "id": "b75d774f78f81fc0"
  }
 ],
 "metadata": {
  "kernelspec": {
   "display_name": "Python 3",
   "language": "python",
   "name": "python3"
  },
  "language_info": {
   "codemirror_mode": {
    "name": "ipython",
    "version": 2
   },
   "file_extension": ".py",
   "mimetype": "text/x-python",
   "name": "python",
   "nbconvert_exporter": "python",
   "pygments_lexer": "ipython2",
   "version": "2.7.6"
  }
 },
 "nbformat": 4,
 "nbformat_minor": 5
}
